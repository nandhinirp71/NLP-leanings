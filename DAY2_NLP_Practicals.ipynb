{
  "nbformat": 4,
  "nbformat_minor": 0,
  "metadata": {
    "colab": {
      "provenance": []
    },
    "kernelspec": {
      "name": "python3",
      "display_name": "Python 3"
    },
    "language_info": {
      "name": "python"
    }
  },
  "cells": [
    {
      "cell_type": "code",
      "execution_count": 2,
      "metadata": {
        "colab": {
          "base_uri": "https://localhost:8080/"
        },
        "id": "JK5Xsj7ksb2M",
        "outputId": "4a492fb2-1dc8-43f6-e027-a80ad46ba4f4"
      },
      "outputs": [
        {
          "output_type": "stream",
          "name": "stdout",
          "text": [
            "Requirement already satisfied: nltk in /usr/local/lib/python3.10/dist-packages (3.8.1)\n",
            "Requirement already satisfied: click in /usr/local/lib/python3.10/dist-packages (from nltk) (8.1.7)\n",
            "Requirement already satisfied: joblib in /usr/local/lib/python3.10/dist-packages (from nltk) (1.4.2)\n",
            "Requirement already satisfied: regex>=2021.8.3 in /usr/local/lib/python3.10/dist-packages (from nltk) (2024.9.11)\n",
            "Requirement already satisfied: tqdm in /usr/local/lib/python3.10/dist-packages (from nltk) (4.66.5)\n"
          ]
        }
      ],
      "source": [
        "!pip install nltk"
      ]
    },
    {
      "cell_type": "code",
      "source": [
        "paragraph = \"\"\"Narendra Damodardas Modi (Gujarati: [ˈnəɾendɾə dɑmodəɾˈdɑs ˈmodiː] ⓘ; born 17 September 1950)[a] is an Indian politician serving as the current prime minister of India since 26 May 2014. Modi was the chief minister of Gujarat from 2001 to 2014 and is the Member of Parliament (MP) for Varanasi. He is a member of the Bharatiya Janata Party (BJP) and of the Rashtriya Swayamsevak Sangh (RSS), a right-wing Hindu nationalist paramilitary volunteer organisation. He is the longest-serving prime minister outside the Indian National Congress.[4]\n",
        "\n",
        "Modi was born and raised in Vadnagar in northeastern Gujarat, where he completed his secondary education. He was introduced to the RSS at the age of eight. At the age of 18, he was married to Jashodaben Modi, whom he abandoned soon after, only publicly acknowledging her four decades later when legally required to do so. Modi became a full-time worker for the RSS in Gujarat in 1971. The RSS assigned him to the BJP in 1985 and he rose through the party hierarchy, becoming general secretary in 1998.[b] In 2001, Modi was appointed Chief Minister of Gujarat and elected to the legislative assembly soon after. His administration is considered complicit in the 2002 Gujarat riots,[c] and has been criticised for its management of the crisis. According to official records, a little over 1,000 people were killed, three-quarters of whom were Muslim; independent sources estimated 2,000 deaths, mostly Muslim.[13] A Special Investigation Team appointed by the Supreme Court of India in 2012 found no evidence to initiate prosecution proceedings against him.[d] While his policies as chief minister were credited for encouraging economic growth, his administration was criticised for failing to significantly improve health, poverty and education indices in the state.[e]\"\"\""
      ],
      "metadata": {
        "id": "wF8Tz3tFst8m"
      },
      "execution_count": 3,
      "outputs": []
    },
    {
      "cell_type": "code",
      "source": [
        "paragraph"
      ],
      "metadata": {
        "colab": {
          "base_uri": "https://localhost:8080/",
          "height": 268
        },
        "id": "7ewUKMTetIa7",
        "outputId": "cf83523c-246d-4a31-e337-fcafd14a4250"
      },
      "execution_count": 4,
      "outputs": [
        {
          "output_type": "execute_result",
          "data": {
            "text/plain": [
              "'Narendra Damodardas Modi (Gujarati: [ˈnəɾendɾə dɑmodəɾˈdɑs ˈmodiː] ⓘ; born 17 September 1950)[a] is an Indian politician serving as the current prime minister of India since 26 May 2014. Modi was the chief minister of Gujarat from 2001 to 2014 and is the Member of Parliament (MP) for Varanasi. He is a member of the Bharatiya Janata Party (BJP) and of the Rashtriya Swayamsevak Sangh (RSS), a right-wing Hindu nationalist paramilitary volunteer organisation. He is the longest-serving prime minister outside the Indian National Congress.[4]\\n\\nModi was born and raised in Vadnagar in northeastern Gujarat, where he completed his secondary education. He was introduced to the RSS at the age of eight. At the age of 18, he was married to Jashodaben Modi, whom he abandoned soon after, only publicly acknowledging her four decades later when legally required to do so. Modi became a full-time worker for the RSS in Gujarat in 1971. The RSS assigned him to the BJP in 1985 and he rose through the party hierarchy, becoming general secretary in 1998.[b] In 2001, Modi was appointed Chief Minister of Gujarat and elected to the legislative assembly soon after. His administration is considered complicit in the 2002 Gujarat riots,[c] and has been criticised for its management of the crisis. According to official records, a little over 1,000 people were killed, three-quarters of whom were Muslim; independent sources estimated 2,000 deaths, mostly Muslim.[13] A Special Investigation Team appointed by the Supreme Court of India in 2012 found no evidence to initiate prosecution proceedings against him.[d] While his policies as chief minister were credited for encouraging economic growth, his administration was criticised for failing to significantly improve health, poverty and education indices in the state.[e]'"
            ],
            "application/vnd.google.colaboratory.intrinsic+json": {
              "type": "string"
            }
          },
          "metadata": {},
          "execution_count": 4
        }
      ]
    },
    {
      "cell_type": "code",
      "source": [
        "import nltk\n",
        "from nltk.stem import PorterStemmer\n",
        "from nltk.corpus import stopwords"
      ],
      "metadata": {
        "id": "rDQYkY-YtJeS"
      },
      "execution_count": 17,
      "outputs": []
    },
    {
      "cell_type": "code",
      "source": [
        "## tokenization -- converts paragraph-sentences-words\n",
        "\n",
        "# download a package to tokenize sentence\n",
        "nltk.download('punkt')\n",
        "sentences = nltk.sent_tokenize(paragraph)"
      ],
      "metadata": {
        "colab": {
          "base_uri": "https://localhost:8080/"
        },
        "id": "RwxVvLRVtbHB",
        "outputId": "6424ab1d-7e02-4aee-f462-c0487f5c5c14"
      },
      "execution_count": 18,
      "outputs": [
        {
          "output_type": "stream",
          "name": "stderr",
          "text": [
            "[nltk_data] Downloading package punkt to /root/nltk_data...\n",
            "[nltk_data]   Package punkt is already up-to-date!\n"
          ]
        }
      ]
    },
    {
      "cell_type": "code",
      "source": [
        "sentences"
      ],
      "metadata": {
        "colab": {
          "base_uri": "https://localhost:8080/"
        },
        "id": "MGGg5dOEtqcA",
        "outputId": "ced6515f-4a26-415c-ea5c-d63664e325cd"
      },
      "execution_count": 19,
      "outputs": [
        {
          "output_type": "execute_result",
          "data": {
            "text/plain": [
              "['Narendra Damodardas Modi (Gujarati: [ˈnəɾendɾə dɑmodəɾˈdɑs ˈmodiː] ⓘ; born 17 September 1950)[a] is an Indian politician serving as the current prime minister of India since 26 May 2014.',\n",
              " 'Modi was the chief minister of Gujarat from 2001 to 2014 and is the Member of Parliament (MP) for Varanasi.',\n",
              " 'He is a member of the Bharatiya Janata Party (BJP) and of the Rashtriya Swayamsevak Sangh (RSS), a right-wing Hindu nationalist paramilitary volunteer organisation.',\n",
              " 'He is the longest-serving prime minister outside the Indian National Congress.',\n",
              " '[4]\\n\\nModi was born and raised in Vadnagar in northeastern Gujarat, where he completed his secondary education.',\n",
              " 'He was introduced to the RSS at the age of eight.',\n",
              " 'At the age of 18, he was married to Jashodaben Modi, whom he abandoned soon after, only publicly acknowledging her four decades later when legally required to do so.',\n",
              " 'Modi became a full-time worker for the RSS in Gujarat in 1971.',\n",
              " 'The RSS assigned him to the BJP in 1985 and he rose through the party hierarchy, becoming general secretary in 1998.',\n",
              " '[b] In 2001, Modi was appointed Chief Minister of Gujarat and elected to the legislative assembly soon after.',\n",
              " 'His administration is considered complicit in the 2002 Gujarat riots,[c] and has been criticised for its management of the crisis.',\n",
              " 'According to official records, a little over 1,000 people were killed, three-quarters of whom were Muslim; independent sources estimated 2,000 deaths, mostly Muslim.',\n",
              " '[13] A Special Investigation Team appointed by the Supreme Court of India in 2012 found no evidence to initiate prosecution proceedings against him.',\n",
              " '[d] While his policies as chief minister were credited for encouraging economic growth, his administration was criticised for failing to significantly improve health, poverty and education indices in the state.',\n",
              " '[e]']"
            ]
          },
          "metadata": {},
          "execution_count": 19
        }
      ]
    },
    {
      "cell_type": "code",
      "source": [
        "# initialize stemmer\n",
        "stemmer = PorterStemmer()"
      ],
      "metadata": {
        "id": "0Q8eTqNSt-t6"
      },
      "execution_count": 20,
      "outputs": []
    },
    {
      "cell_type": "code",
      "source": [
        "# the WordNet corpus, which is required for lemmatization using NLTK\n",
        "nltk.download('wordnet')  # Download WordNet\n",
        "\n",
        "from nltk.stem import WordNetLemmatizer"
      ],
      "metadata": {
        "colab": {
          "base_uri": "https://localhost:8080/"
        },
        "id": "dA4HwU9luYUM",
        "outputId": "9177bdbb-aa8f-493d-fac5-9e636af7fc7e"
      },
      "execution_count": 32,
      "outputs": [
        {
          "output_type": "stream",
          "name": "stderr",
          "text": [
            "[nltk_data] Downloading package wordnet to /root/nltk_data...\n",
            "[nltk_data]   Package wordnet is already up-to-date!\n"
          ]
        }
      ]
    },
    {
      "cell_type": "code",
      "source": [
        "stemmer.stem('history')"
      ],
      "metadata": {
        "colab": {
          "base_uri": "https://localhost:8080/",
          "height": 35
        },
        "id": "lRyNzmGIuVj6",
        "outputId": "1662d0c8-7f12-4bab-9b7f-1519865fa4af"
      },
      "execution_count": 33,
      "outputs": [
        {
          "output_type": "execute_result",
          "data": {
            "text/plain": [
              "'histori'"
            ],
            "application/vnd.google.colaboratory.intrinsic+json": {
              "type": "string"
            }
          },
          "metadata": {},
          "execution_count": 33
        }
      ]
    },
    {
      "cell_type": "code",
      "source": [
        "lemmatizer = WordNetLemmatizer()"
      ],
      "metadata": {
        "id": "o5kdr7rJundY"
      },
      "execution_count": 34,
      "outputs": []
    },
    {
      "cell_type": "code",
      "source": [
        "lemmatizer.lemmatize('history')"
      ],
      "metadata": {
        "colab": {
          "base_uri": "https://localhost:8080/",
          "height": 35
        },
        "id": "lpC6jvbKurAf",
        "outputId": "b07ed786-6cfd-406b-ae7c-b822ca5c12d2"
      },
      "execution_count": 44,
      "outputs": [
        {
          "output_type": "execute_result",
          "data": {
            "text/plain": [
              "'history'"
            ],
            "application/vnd.google.colaboratory.intrinsic+json": {
              "type": "string"
            }
          },
          "metadata": {},
          "execution_count": 44
        }
      ]
    },
    {
      "cell_type": "code",
      "source": [
        "len(sentences)"
      ],
      "metadata": {
        "colab": {
          "base_uri": "https://localhost:8080/"
        },
        "id": "nd748ROFvIRd",
        "outputId": "d2755514-1138-4e2c-faf8-d147517482e1"
      },
      "execution_count": 36,
      "outputs": [
        {
          "output_type": "execute_result",
          "data": {
            "text/plain": [
              "15"
            ]
          },
          "metadata": {},
          "execution_count": 36
        }
      ]
    },
    {
      "cell_type": "code",
      "source": [
        "import re\n",
        "\n",
        "# new corpus after cleaning\n",
        "corpus=[]\n",
        "\n",
        "for i in range(len(sentences)):\n",
        "  review = re.sub('[^a-zA-Z]', ' ', sentences[i])\n",
        "  review = review.lower()\n",
        "  corpus.append(review)"
      ],
      "metadata": {
        "id": "76pjqZj9uurx"
      },
      "execution_count": 37,
      "outputs": []
    },
    {
      "cell_type": "code",
      "source": [
        "corpus"
      ],
      "metadata": {
        "colab": {
          "base_uri": "https://localhost:8080/"
        },
        "id": "BZ5Ej22Nvog_",
        "outputId": "fff649fc-40b7-4ecc-f3e6-d5e0f1601f8d"
      },
      "execution_count": 38,
      "outputs": [
        {
          "output_type": "execute_result",
          "data": {
            "text/plain": [
              "['narendra damodardas modi  gujarati    n  end   d mod   d s  modi      born    september       a  is an indian politician serving as the current prime minister of india since    may      ',\n",
              " 'modi was the chief minister of gujarat from      to      and is the member of parliament  mp  for varanasi ',\n",
              " 'he is a member of the bharatiya janata party  bjp  and of the rashtriya swayamsevak sangh  rss   a right wing hindu nationalist paramilitary volunteer organisation ',\n",
              " 'he is the longest serving prime minister outside the indian national congress ',\n",
              " '     modi was born and raised in vadnagar in northeastern gujarat  where he completed his secondary education ',\n",
              " 'he was introduced to the rss at the age of eight ',\n",
              " 'at the age of     he was married to jashodaben modi  whom he abandoned soon after  only publicly acknowledging her four decades later when legally required to do so ',\n",
              " 'modi became a full time worker for the rss in gujarat in      ',\n",
              " 'the rss assigned him to the bjp in      and he rose through the party hierarchy  becoming general secretary in      ',\n",
              " ' b  in       modi was appointed chief minister of gujarat and elected to the legislative assembly soon after ',\n",
              " 'his administration is considered complicit in the      gujarat riots  c  and has been criticised for its management of the crisis ',\n",
              " 'according to official records  a little over       people were killed  three quarters of whom were muslim  independent sources estimated       deaths  mostly muslim ',\n",
              " '     a special investigation team appointed by the supreme court of india in      found no evidence to initiate prosecution proceedings against him ',\n",
              " ' d  while his policies as chief minister were credited for encouraging economic growth  his administration was criticised for failing to significantly improve health  poverty and education indices in the state ',\n",
              " ' e ']"
            ]
          },
          "metadata": {},
          "execution_count": 38
        }
      ]
    },
    {
      "cell_type": "code",
      "source": [
        "## stemming\n",
        "nltk.download('stopwords')\n",
        "\n",
        "for i in corpus:\n",
        "  words = nltk.word_tokenize(i)\n",
        "  for word in words:\n",
        "    if word not in set(stopwords.words('english')):\n",
        "      print(stemmer.stem(word))"
      ],
      "metadata": {
        "colab": {
          "base_uri": "https://localhost:8080/"
        },
        "id": "XZMUiPaKvqZA",
        "outputId": "888da275-a2b1-467d-fedc-17ba99656767"
      },
      "execution_count": 39,
      "outputs": [
        {
          "output_type": "stream",
          "name": "stdout",
          "text": [
            "narendra\n",
            "damodarda\n",
            "modi\n",
            "gujarati\n",
            "n\n",
            "end\n",
            "mod\n",
            "modi\n",
            "born\n",
            "septemb\n",
            "indian\n",
            "politician\n",
            "serv\n",
            "current\n",
            "prime\n",
            "minist\n",
            "india\n",
            "sinc\n",
            "may\n",
            "modi\n",
            "chief\n",
            "minist\n",
            "gujarat\n",
            "member\n",
            "parliament\n",
            "mp\n",
            "varanasi\n",
            "member\n",
            "bharatiya\n",
            "janata\n",
            "parti\n",
            "bjp\n",
            "rashtriya\n",
            "swayamsevak\n",
            "sangh\n",
            "rss\n",
            "right\n",
            "wing\n",
            "hindu\n",
            "nationalist\n",
            "paramilitari\n",
            "volunt\n",
            "organis\n",
            "longest\n",
            "serv\n",
            "prime\n",
            "minist\n",
            "outsid\n",
            "indian\n",
            "nation\n",
            "congress\n",
            "modi\n",
            "born\n",
            "rais\n",
            "vadnagar\n",
            "northeastern\n",
            "gujarat\n",
            "complet\n",
            "secondari\n",
            "educ\n",
            "introduc\n",
            "rss\n",
            "age\n",
            "eight\n",
            "age\n",
            "marri\n",
            "jashodaben\n",
            "modi\n",
            "abandon\n",
            "soon\n",
            "publicli\n",
            "acknowledg\n",
            "four\n",
            "decad\n",
            "later\n",
            "legal\n",
            "requir\n",
            "modi\n",
            "becam\n",
            "full\n",
            "time\n",
            "worker\n",
            "rss\n",
            "gujarat\n",
            "rss\n",
            "assign\n",
            "bjp\n",
            "rose\n",
            "parti\n",
            "hierarchi\n",
            "becom\n",
            "gener\n",
            "secretari\n",
            "b\n",
            "modi\n",
            "appoint\n",
            "chief\n",
            "minist\n",
            "gujarat\n",
            "elect\n",
            "legisl\n",
            "assembl\n",
            "soon\n",
            "administr\n",
            "consid\n",
            "complicit\n",
            "gujarat\n",
            "riot\n",
            "c\n",
            "criticis\n",
            "manag\n",
            "crisi\n",
            "accord\n",
            "offici\n",
            "record\n",
            "littl\n",
            "peopl\n",
            "kill\n",
            "three\n",
            "quarter\n",
            "muslim\n",
            "independ\n",
            "sourc\n",
            "estim\n",
            "death\n",
            "mostli\n",
            "muslim\n",
            "special\n",
            "investig\n",
            "team\n",
            "appoint\n",
            "suprem\n",
            "court\n",
            "india\n",
            "found\n",
            "evid\n",
            "initi\n",
            "prosecut\n",
            "proceed\n",
            "polici\n",
            "chief\n",
            "minist\n",
            "credit\n",
            "encourag\n",
            "econom\n",
            "growth\n",
            "administr\n",
            "criticis\n",
            "fail\n",
            "significantli\n",
            "improv\n",
            "health\n",
            "poverti\n",
            "educ\n",
            "indic\n",
            "state\n",
            "e\n"
          ]
        },
        {
          "output_type": "stream",
          "name": "stderr",
          "text": [
            "[nltk_data] Downloading package stopwords to /root/nltk_data...\n",
            "[nltk_data]   Package stopwords is already up-to-date!\n"
          ]
        }
      ]
    },
    {
      "cell_type": "code",
      "source": [
        "stopwords.words('english')"
      ],
      "metadata": {
        "colab": {
          "base_uri": "https://localhost:8080/"
        },
        "id": "aKlrBjJdwP9b",
        "outputId": "e2538b14-2ec0-42ea-c98d-600edcd683f2"
      },
      "execution_count": 40,
      "outputs": [
        {
          "output_type": "execute_result",
          "data": {
            "text/plain": [
              "['i',\n",
              " 'me',\n",
              " 'my',\n",
              " 'myself',\n",
              " 'we',\n",
              " 'our',\n",
              " 'ours',\n",
              " 'ourselves',\n",
              " 'you',\n",
              " \"you're\",\n",
              " \"you've\",\n",
              " \"you'll\",\n",
              " \"you'd\",\n",
              " 'your',\n",
              " 'yours',\n",
              " 'yourself',\n",
              " 'yourselves',\n",
              " 'he',\n",
              " 'him',\n",
              " 'his',\n",
              " 'himself',\n",
              " 'she',\n",
              " \"she's\",\n",
              " 'her',\n",
              " 'hers',\n",
              " 'herself',\n",
              " 'it',\n",
              " \"it's\",\n",
              " 'its',\n",
              " 'itself',\n",
              " 'they',\n",
              " 'them',\n",
              " 'their',\n",
              " 'theirs',\n",
              " 'themselves',\n",
              " 'what',\n",
              " 'which',\n",
              " 'who',\n",
              " 'whom',\n",
              " 'this',\n",
              " 'that',\n",
              " \"that'll\",\n",
              " 'these',\n",
              " 'those',\n",
              " 'am',\n",
              " 'is',\n",
              " 'are',\n",
              " 'was',\n",
              " 'were',\n",
              " 'be',\n",
              " 'been',\n",
              " 'being',\n",
              " 'have',\n",
              " 'has',\n",
              " 'had',\n",
              " 'having',\n",
              " 'do',\n",
              " 'does',\n",
              " 'did',\n",
              " 'doing',\n",
              " 'a',\n",
              " 'an',\n",
              " 'the',\n",
              " 'and',\n",
              " 'but',\n",
              " 'if',\n",
              " 'or',\n",
              " 'because',\n",
              " 'as',\n",
              " 'until',\n",
              " 'while',\n",
              " 'of',\n",
              " 'at',\n",
              " 'by',\n",
              " 'for',\n",
              " 'with',\n",
              " 'about',\n",
              " 'against',\n",
              " 'between',\n",
              " 'into',\n",
              " 'through',\n",
              " 'during',\n",
              " 'before',\n",
              " 'after',\n",
              " 'above',\n",
              " 'below',\n",
              " 'to',\n",
              " 'from',\n",
              " 'up',\n",
              " 'down',\n",
              " 'in',\n",
              " 'out',\n",
              " 'on',\n",
              " 'off',\n",
              " 'over',\n",
              " 'under',\n",
              " 'again',\n",
              " 'further',\n",
              " 'then',\n",
              " 'once',\n",
              " 'here',\n",
              " 'there',\n",
              " 'when',\n",
              " 'where',\n",
              " 'why',\n",
              " 'how',\n",
              " 'all',\n",
              " 'any',\n",
              " 'both',\n",
              " 'each',\n",
              " 'few',\n",
              " 'more',\n",
              " 'most',\n",
              " 'other',\n",
              " 'some',\n",
              " 'such',\n",
              " 'no',\n",
              " 'nor',\n",
              " 'not',\n",
              " 'only',\n",
              " 'own',\n",
              " 'same',\n",
              " 'so',\n",
              " 'than',\n",
              " 'too',\n",
              " 'very',\n",
              " 's',\n",
              " 't',\n",
              " 'can',\n",
              " 'will',\n",
              " 'just',\n",
              " 'don',\n",
              " \"don't\",\n",
              " 'should',\n",
              " \"should've\",\n",
              " 'now',\n",
              " 'd',\n",
              " 'll',\n",
              " 'm',\n",
              " 'o',\n",
              " 're',\n",
              " 've',\n",
              " 'y',\n",
              " 'ain',\n",
              " 'aren',\n",
              " \"aren't\",\n",
              " 'couldn',\n",
              " \"couldn't\",\n",
              " 'didn',\n",
              " \"didn't\",\n",
              " 'doesn',\n",
              " \"doesn't\",\n",
              " 'hadn',\n",
              " \"hadn't\",\n",
              " 'hasn',\n",
              " \"hasn't\",\n",
              " 'haven',\n",
              " \"haven't\",\n",
              " 'isn',\n",
              " \"isn't\",\n",
              " 'ma',\n",
              " 'mightn',\n",
              " \"mightn't\",\n",
              " 'mustn',\n",
              " \"mustn't\",\n",
              " 'needn',\n",
              " \"needn't\",\n",
              " 'shan',\n",
              " \"shan't\",\n",
              " 'shouldn',\n",
              " \"shouldn't\",\n",
              " 'wasn',\n",
              " \"wasn't\",\n",
              " 'weren',\n",
              " \"weren't\",\n",
              " 'won',\n",
              " \"won't\",\n",
              " 'wouldn',\n",
              " \"wouldn't\"]"
            ]
          },
          "metadata": {},
          "execution_count": 40
        }
      ]
    },
    {
      "cell_type": "code",
      "source": [
        "## lemmatization\n",
        "\n",
        "for i in corpus:\n",
        "  words = nltk.word_tokenize(i)\n",
        "  for word in words:\n",
        "    if word not in set(stopwords.words('english')):\n",
        "      print(lemmatizer.lemmatize(word))"
      ],
      "metadata": {
        "colab": {
          "base_uri": "https://localhost:8080/"
        },
        "id": "r-tvfXU0wgBA",
        "outputId": "f61e0693-7506-4bce-a2f1-860579eeb5ed"
      },
      "execution_count": 43,
      "outputs": [
        {
          "output_type": "stream",
          "name": "stdout",
          "text": [
            "narendra\n",
            "damodardas\n",
            "modi\n",
            "gujarati\n",
            "n\n",
            "end\n",
            "mod\n",
            "modi\n",
            "born\n",
            "september\n",
            "indian\n",
            "politician\n",
            "serving\n",
            "current\n",
            "prime\n",
            "minister\n",
            "india\n",
            "since\n",
            "may\n",
            "modi\n",
            "chief\n",
            "minister\n",
            "gujarat\n",
            "member\n",
            "parliament\n",
            "mp\n",
            "varanasi\n",
            "member\n",
            "bharatiya\n",
            "janata\n",
            "party\n",
            "bjp\n",
            "rashtriya\n",
            "swayamsevak\n",
            "sangh\n",
            "r\n",
            "right\n",
            "wing\n",
            "hindu\n",
            "nationalist\n",
            "paramilitary\n",
            "volunteer\n",
            "organisation\n",
            "longest\n",
            "serving\n",
            "prime\n",
            "minister\n",
            "outside\n",
            "indian\n",
            "national\n",
            "congress\n",
            "modi\n",
            "born\n",
            "raised\n",
            "vadnagar\n",
            "northeastern\n",
            "gujarat\n",
            "completed\n",
            "secondary\n",
            "education\n",
            "introduced\n",
            "r\n",
            "age\n",
            "eight\n",
            "age\n",
            "married\n",
            "jashodaben\n",
            "modi\n",
            "abandoned\n",
            "soon\n",
            "publicly\n",
            "acknowledging\n",
            "four\n",
            "decade\n",
            "later\n",
            "legally\n",
            "required\n",
            "modi\n",
            "became\n",
            "full\n",
            "time\n",
            "worker\n",
            "r\n",
            "gujarat\n",
            "r\n",
            "assigned\n",
            "bjp\n",
            "rose\n",
            "party\n",
            "hierarchy\n",
            "becoming\n",
            "general\n",
            "secretary\n",
            "b\n",
            "modi\n",
            "appointed\n",
            "chief\n",
            "minister\n",
            "gujarat\n",
            "elected\n",
            "legislative\n",
            "assembly\n",
            "soon\n",
            "administration\n",
            "considered\n",
            "complicit\n",
            "gujarat\n",
            "riot\n",
            "c\n",
            "criticised\n",
            "management\n",
            "crisis\n",
            "according\n",
            "official\n",
            "record\n",
            "little\n",
            "people\n",
            "killed\n",
            "three\n",
            "quarter\n",
            "muslim\n",
            "independent\n",
            "source\n",
            "estimated\n",
            "death\n",
            "mostly\n",
            "muslim\n",
            "special\n",
            "investigation\n",
            "team\n",
            "appointed\n",
            "supreme\n",
            "court\n",
            "india\n",
            "found\n",
            "evidence\n",
            "initiate\n",
            "prosecution\n",
            "proceeding\n",
            "policy\n",
            "chief\n",
            "minister\n",
            "credited\n",
            "encouraging\n",
            "economic\n",
            "growth\n",
            "administration\n",
            "criticised\n",
            "failing\n",
            "significantly\n",
            "improve\n",
            "health\n",
            "poverty\n",
            "education\n",
            "index\n",
            "state\n",
            "e\n"
          ]
        }
      ]
    },
    {
      "cell_type": "code",
      "source": [
        "# Bag of Words\n",
        "\n",
        "from sklearn.feature_extraction.text import CountVectorizer\n",
        "cv = CountVectorizer()"
      ],
      "metadata": {
        "id": "kPiCiHvKo0u0"
      },
      "execution_count": 47,
      "outputs": []
    },
    {
      "cell_type": "code",
      "source": [
        "X=cv.fit_transform(corpus)"
      ],
      "metadata": {
        "id": "GD8Vem7dwIe_"
      },
      "execution_count": 48,
      "outputs": []
    },
    {
      "cell_type": "code",
      "source": [
        "cv.vocabulary_"
      ],
      "metadata": {
        "colab": {
          "base_uri": "https://localhost:8080/"
        },
        "id": "lOPLg702wRDR",
        "outputId": "58fcd0ee-a638-42c3-b910-e2d4fd52d2ec"
      },
      "execution_count": 49,
      "outputs": [
        {
          "output_type": "execute_result",
          "data": {
            "text/plain": [
              "{'narendra': 90,\n",
              " 'damodardas': 31,\n",
              " 'modi': 86,\n",
              " 'gujarati': 52,\n",
              " 'end': 40,\n",
              " 'mod': 85,\n",
              " 'born': 19,\n",
              " 'september': 124,\n",
              " 'is': 70,\n",
              " 'an': 7,\n",
              " 'indian': 65,\n",
              " 'politician': 106,\n",
              " 'serving': 125,\n",
              " 'as': 10,\n",
              " 'the': 136,\n",
              " 'current': 30,\n",
              " 'prime': 108,\n",
              " 'minister': 84,\n",
              " 'of': 95,\n",
              " 'india': 64,\n",
              " 'since': 127,\n",
              " 'may': 82,\n",
              " 'was': 144,\n",
              " 'chief': 21,\n",
              " 'gujarat': 51,\n",
              " 'from': 47,\n",
              " 'to': 140,\n",
              " 'and': 8,\n",
              " 'member': 83,\n",
              " 'parliament': 102,\n",
              " 'mp': 88,\n",
              " 'for': 44,\n",
              " 'varanasi': 142,\n",
              " 'he': 54,\n",
              " 'bharatiya': 17,\n",
              " 'janata': 72,\n",
              " 'party': 103,\n",
              " 'bjp': 18,\n",
              " 'rashtriya': 114,\n",
              " 'swayamsevak': 134,\n",
              " 'sangh': 121,\n",
              " 'rss': 120,\n",
              " 'right': 117,\n",
              " 'wing': 150,\n",
              " 'hindu': 59,\n",
              " 'nationalist': 92,\n",
              " 'paramilitary': 101,\n",
              " 'volunteer': 143,\n",
              " 'organisation': 98,\n",
              " 'longest': 79,\n",
              " 'outside': 99,\n",
              " 'national': 91,\n",
              " 'congress': 24,\n",
              " 'raised': 113,\n",
              " 'in': 62,\n",
              " 'vadnagar': 141,\n",
              " 'northeastern': 94,\n",
              " 'where': 147,\n",
              " 'completed': 22,\n",
              " 'his': 60,\n",
              " 'secondary': 122,\n",
              " 'education': 36,\n",
              " 'introduced': 68,\n",
              " 'at': 13,\n",
              " 'age': 6,\n",
              " 'eight': 37,\n",
              " 'married': 81,\n",
              " 'jashodaben': 73,\n",
              " 'whom': 149,\n",
              " 'abandoned': 0,\n",
              " 'soon': 129,\n",
              " 'after': 4,\n",
              " 'only': 97,\n",
              " 'publicly': 111,\n",
              " 'acknowledging': 2,\n",
              " 'her': 56,\n",
              " 'four': 46,\n",
              " 'decades': 33,\n",
              " 'later': 75,\n",
              " 'when': 146,\n",
              " 'legally': 76,\n",
              " 'required': 116,\n",
              " 'do': 34,\n",
              " 'so': 128,\n",
              " 'became': 14,\n",
              " 'full': 48,\n",
              " 'time': 139,\n",
              " 'worker': 151,\n",
              " 'assigned': 12,\n",
              " 'him': 58,\n",
              " 'rose': 119,\n",
              " 'through': 138,\n",
              " 'hierarchy': 57,\n",
              " 'becoming': 15,\n",
              " 'general': 49,\n",
              " 'secretary': 123,\n",
              " 'appointed': 9,\n",
              " 'elected': 38,\n",
              " 'legislative': 77,\n",
              " 'assembly': 11,\n",
              " 'administration': 3,\n",
              " 'considered': 25,\n",
              " 'complicit': 23,\n",
              " 'riots': 118,\n",
              " 'has': 53,\n",
              " 'been': 16,\n",
              " 'criticised': 29,\n",
              " 'its': 71,\n",
              " 'management': 80,\n",
              " 'crisis': 28,\n",
              " 'according': 1,\n",
              " 'official': 96,\n",
              " 'records': 115,\n",
              " 'little': 78,\n",
              " 'over': 100,\n",
              " 'people': 104,\n",
              " 'were': 145,\n",
              " 'killed': 74,\n",
              " 'three': 137,\n",
              " 'quarters': 112,\n",
              " 'muslim': 89,\n",
              " 'independent': 63,\n",
              " 'sources': 130,\n",
              " 'estimated': 41,\n",
              " 'deaths': 32,\n",
              " 'mostly': 87,\n",
              " 'special': 131,\n",
              " 'investigation': 69,\n",
              " 'team': 135,\n",
              " 'by': 20,\n",
              " 'supreme': 133,\n",
              " 'court': 26,\n",
              " 'found': 45,\n",
              " 'no': 93,\n",
              " 'evidence': 42,\n",
              " 'initiate': 67,\n",
              " 'prosecution': 110,\n",
              " 'proceedings': 109,\n",
              " 'against': 5,\n",
              " 'while': 148,\n",
              " 'policies': 105,\n",
              " 'credited': 27,\n",
              " 'encouraging': 39,\n",
              " 'economic': 35,\n",
              " 'growth': 50,\n",
              " 'failing': 43,\n",
              " 'significantly': 126,\n",
              " 'improve': 61,\n",
              " 'health': 55,\n",
              " 'poverty': 107,\n",
              " 'indices': 66,\n",
              " 'state': 132}"
            ]
          },
          "metadata": {},
          "execution_count": 49
        }
      ]
    },
    {
      "cell_type": "code",
      "source": [
        "corpus[0]"
      ],
      "metadata": {
        "colab": {
          "base_uri": "https://localhost:8080/",
          "height": 71
        },
        "id": "Kwq1ZsKuwTD_",
        "outputId": "8f403345-d749-4170-e22e-c46ceb47a257"
      },
      "execution_count": 50,
      "outputs": [
        {
          "output_type": "execute_result",
          "data": {
            "text/plain": [
              "'narendra damodardas modi  gujarati    n  end   d mod   d s  modi      born    september       a  is an indian politician serving as the current prime minister of india since    may      '"
            ],
            "application/vnd.google.colaboratory.intrinsic+json": {
              "type": "string"
            }
          },
          "metadata": {},
          "execution_count": 50
        }
      ]
    },
    {
      "cell_type": "code",
      "source": [
        "X[0].toarray()"
      ],
      "metadata": {
        "colab": {
          "base_uri": "https://localhost:8080/"
        },
        "id": "ZPsBYAUhwwn8",
        "outputId": "c4ee1135-4c6a-4864-dfe5-4f0974107cfc"
      },
      "execution_count": 52,
      "outputs": [
        {
          "output_type": "execute_result",
          "data": {
            "text/plain": [
              "array([[0, 0, 0, 0, 0, 0, 0, 1, 0, 0, 1, 0, 0, 0, 0, 0, 0, 0, 0, 1, 0, 0,\n",
              "        0, 0, 0, 0, 0, 0, 0, 0, 1, 1, 0, 0, 0, 0, 0, 0, 0, 0, 1, 0, 0, 0,\n",
              "        0, 0, 0, 0, 0, 0, 0, 0, 1, 0, 0, 0, 0, 0, 0, 0, 0, 0, 0, 0, 1, 1,\n",
              "        0, 0, 0, 0, 1, 0, 0, 0, 0, 0, 0, 0, 0, 0, 0, 0, 1, 0, 1, 1, 2, 0,\n",
              "        0, 0, 1, 0, 0, 0, 0, 1, 0, 0, 0, 0, 0, 0, 0, 0, 0, 0, 1, 0, 1, 0,\n",
              "        0, 0, 0, 0, 0, 0, 0, 0, 0, 0, 0, 0, 0, 0, 1, 1, 0, 1, 0, 0, 0, 0,\n",
              "        0, 0, 0, 0, 1, 0, 0, 0, 0, 0, 0, 0, 0, 0, 0, 0, 0, 0, 0, 0]])"
            ]
          },
          "metadata": {},
          "execution_count": 52
        }
      ]
    },
    {
      "cell_type": "code",
      "source": [
        "# Binary BOW\n",
        "\n",
        "from sklearn.feature_extraction.text import CountVectorizer\n",
        "\n",
        "cv = CountVectorizer(binary=True)"
      ],
      "metadata": {
        "id": "_zvB_pcnwybS"
      },
      "execution_count": 53,
      "outputs": []
    },
    {
      "cell_type": "code",
      "source": [
        "X=cv.fit_transform(corpus)"
      ],
      "metadata": {
        "id": "-1wb6Fx8xB-j"
      },
      "execution_count": 54,
      "outputs": []
    },
    {
      "cell_type": "code",
      "source": [
        "X[0].toarray()"
      ],
      "metadata": {
        "colab": {
          "base_uri": "https://localhost:8080/"
        },
        "id": "YMFCysusxFzv",
        "outputId": "0e47b649-dfc1-43d6-d976-9d35313dece3"
      },
      "execution_count": 55,
      "outputs": [
        {
          "output_type": "execute_result",
          "data": {
            "text/plain": [
              "array([[0, 0, 0, 0, 0, 0, 0, 1, 0, 0, 1, 0, 0, 0, 0, 0, 0, 0, 0, 1, 0, 0,\n",
              "        0, 0, 0, 0, 0, 0, 0, 0, 1, 1, 0, 0, 0, 0, 0, 0, 0, 0, 1, 0, 0, 0,\n",
              "        0, 0, 0, 0, 0, 0, 0, 0, 1, 0, 0, 0, 0, 0, 0, 0, 0, 0, 0, 0, 1, 1,\n",
              "        0, 0, 0, 0, 1, 0, 0, 0, 0, 0, 0, 0, 0, 0, 0, 0, 1, 0, 1, 1, 1, 0,\n",
              "        0, 0, 1, 0, 0, 0, 0, 1, 0, 0, 0, 0, 0, 0, 0, 0, 0, 0, 1, 0, 1, 0,\n",
              "        0, 0, 0, 0, 0, 0, 0, 0, 0, 0, 0, 0, 0, 0, 1, 1, 0, 1, 0, 0, 0, 0,\n",
              "        0, 0, 0, 0, 1, 0, 0, 0, 0, 0, 0, 0, 0, 0, 0, 0, 0, 0, 0, 0]])"
            ]
          },
          "metadata": {},
          "execution_count": 55
        }
      ]
    },
    {
      "cell_type": "code",
      "source": [
        "# applying stopwords\n",
        "import re\n",
        "\n",
        "# new corpus after cleaning\n",
        "corpus=[]\n",
        "\n",
        "for i in range(len(sentences)):\n",
        "  review = re.sub('[^a-zA-Z]', ' ', sentences[i])\n",
        "  review = review.lower()\n",
        "  review = review.split()\n",
        "  review = [lemmatizer.lemmatize(word)\n",
        "  for word in review if not word in set(stopwords.words('english'))]\n",
        "  corpus.append(review)"
      ],
      "metadata": {
        "id": "DH6tK-4zxIZ2"
      },
      "execution_count": 56,
      "outputs": []
    },
    {
      "cell_type": "code",
      "source": [],
      "metadata": {
        "id": "ZPvMMy3NxoUJ"
      },
      "execution_count": null,
      "outputs": []
    }
  ]
}